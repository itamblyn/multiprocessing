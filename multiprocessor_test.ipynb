{
 "cells": [
  {
   "cell_type": "code",
   "execution_count": 18,
   "metadata": {
    "collapsed": true
   },
   "outputs": [],
   "source": [
    "import numpy as np\n",
    "import time\n",
    "from multiprocessing import Pool\n"
   ]
  },
  {
   "cell_type": "code",
   "execution_count": 19,
   "metadata": {
    "collapsed": true
   },
   "outputs": [],
   "source": [
    "# this simulates a python program which takes a few seconds to execute\n",
    "# it involves generation of many random numbers, an allocating some memory\n",
    "\n",
    "def counter(seed):\n",
    "    np.random.seed(seed)\n",
    "    random_numbers = np.random.rand(100000000)\n",
    "    average = np.sum(random_numbers)/float(random_numbers.shape[-1])\n",
    "    return average, seed"
   ]
  },
  {
   "cell_type": "code",
   "execution_count": 20,
   "metadata": {},
   "outputs": [
    {
     "name": "stdout",
     "output_type": "stream",
     "text": [
      "1.94431805611  seconds (0.4999614381402488, 0)\n"
     ]
    }
   ],
   "source": [
    "# measure the time it takes to complete one task using standard techinques\n",
    "toc = time.time()\n",
    "average = counter(0)\n",
    "tic = time.time()\n",
    "print tic-toc, ' seconds', average"
   ]
  },
  {
   "cell_type": "code",
   "execution_count": 21,
   "metadata": {},
   "outputs": [
    {
     "name": "stdout",
     "output_type": "stream",
     "text": [
      "(0.4999614381402488, 0)\n",
      "(0.5000335204503696, 1)\n",
      "(0.5000645988487032, 2)\n",
      "(0.5000281965772678, 3)\n",
      "7.6842238903  seconds (should be about x4 times the above)\n"
     ]
    }
   ],
   "source": [
    "# measure the time it takes to complete four tasks using standard techinques, one after the other\n",
    "tic = time.time()\n",
    "average = counter(0)\n",
    "print average\n",
    "average = counter(1)\n",
    "print average\n",
    "average = counter(2)\n",
    "print average\n",
    "average = counter(3)\n",
    "print average\n",
    "toc = time.time()\n",
    "print toc-tic, ' seconds (should be about x4 times the above)'"
   ]
  },
  {
   "cell_type": "code",
   "execution_count": 23,
   "metadata": {},
   "outputs": [
    {
     "name": "stdout",
     "output_type": "stream",
     "text": [
      "[(0.4999614381402488, 0), (0.5000335204503696, 1), (0.5000645988487032, 2), (0.5000281965772678, 3)]\n",
      "7.94785308838  seconds (should be about the same as the task above)\n",
      "returned values should be identical to above\n"
     ]
    }
   ],
   "source": [
    "tic = time.time()\n",
    "seeds = np.arange(4)     # create 4 different seeds \n",
    "pool = Pool(processes=1) # work will be carried out by one process\n",
    "tic = time.time()\n",
    "print(pool.map(counter, seeds))\n",
    "toc = time.time()\n",
    "print toc-tic, ' seconds (should be about the same as the task above)'\n",
    "print 'returned values should be identical to above'\n",
    "    "
   ]
  },
  {
   "cell_type": "code",
   "execution_count": 24,
   "metadata": {},
   "outputs": [
    {
     "name": "stdout",
     "output_type": "stream",
     "text": [
      "[(0.4999614381402488, 0), (0.5000335204503696, 1), (0.5000645988487032, 2), (0.5000281965772678, 3)]\n",
      "4.25630187988  seconds (should be about half the time above)\n",
      "returned values should be identical to above\n"
     ]
    }
   ],
   "source": [
    "tic = time.time()\n",
    "seeds = np.arange(4)\n",
    "pool = Pool(processes=2)\n",
    "tic = time.time()\n",
    "print(pool.map(counter, seeds))\n",
    "toc = time.time()\n",
    "print toc-tic, ' seconds (should be about half the time above)'\n",
    "print 'returned values should be identical to above'\n"
   ]
  },
  {
   "cell_type": "code",
   "execution_count": 25,
   "metadata": {},
   "outputs": [
    {
     "name": "stdout",
     "output_type": "stream",
     "text": [
      "[(0.4999614381402488, 0), (0.5000335204503696, 1), (0.5000645988487032, 2), (0.5000281965772678, 3)]\n",
      "3.48834896088  seconds, should be another 50% reduction...\n",
      "returned values should be identical to above\n"
     ]
    }
   ],
   "source": [
    "tic = time.time()\n",
    "seeds = np.arange(4)\n",
    "pool = Pool(processes=4)\n",
    "tic = time.time()\n",
    "print(pool.map(counter, seeds))\n",
    "toc = time.time()\n",
    "print toc-tic, ' seconds, should be another reduction, less than 50% though... (see README.md)'\n",
    "print 'returned values should be identical to above'\n",
    "\n",
    "    "
   ]
  },
  {
   "cell_type": "code",
   "execution_count": 29,
   "metadata": {},
   "outputs": [
    {
     "name": "stdout",
     "output_type": "stream",
     "text": [
      "[(0.4999614381402488, 0), (0.5000335204503696, 1), (0.5000645988487032, 2), (0.5000281965772678, 3)]\n",
      "3.56268310547  seconds, should be same as previous - the extra processes have no work\n",
      "returned values should be identical to above\n"
     ]
    }
   ],
   "source": [
    "tic = time.time()\n",
    "seeds = np.arange(4)\n",
    "pool = Pool(processes=8)\n",
    "tic = time.time()\n",
    "print(pool.map(counter, seeds))\n",
    "toc = time.time()\n",
    "print toc-tic, ' seconds, should be same as previous - the extra processes have no work'\n",
    "print 'returned values should be identical to above'"
   ]
  },
  {
   "cell_type": "code",
   "execution_count": null,
   "metadata": {
    "collapsed": true
   },
   "outputs": [],
   "source": []
  }
 ],
 "metadata": {
  "kernelspec": {
   "display_name": "Python 2",
   "language": "python",
   "name": "python2"
  },
  "language_info": {
   "codemirror_mode": {
    "name": "ipython",
    "version": 2
   },
   "file_extension": ".py",
   "mimetype": "text/x-python",
   "name": "python",
   "nbconvert_exporter": "python",
   "pygments_lexer": "ipython2",
   "version": "2.7.14"
  }
 },
 "nbformat": 4,
 "nbformat_minor": 2
}
